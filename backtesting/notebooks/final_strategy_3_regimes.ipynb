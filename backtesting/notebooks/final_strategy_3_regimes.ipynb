{
 "cells": [
  {
   "cell_type": "code",
   "execution_count": null,
   "id": "initial_id",
   "metadata": {
    "collapsed": true
   },
   "outputs": [],
   "source": [
    "import pandas as pd\n",
    "import numpy as np\n",
    "from backtesting import arima_garch_python as models\n",
    "from backtesting.generate_schedules import generate_schedule\n",
    "import matplotlib.pyplot as plt\n",
    "from common.config import schedules_generation_dates\n",
    "\n",
    "import warnings\n",
    "\n",
    "warnings.simplefilter(action='ignore', category=FutureWarning)\n",
    "pd.options.mode.chained_assignment = None\n"
   ]
  },
  {
   "cell_type": "code",
   "execution_count": null,
   "outputs": [],
   "source": [
    "x = models.ArimaGarchAnalyzer('default', 10000, [pd.to_datetime('1996-01-02')], [pd.to_datetime('2023-12-29')], log_to_file=True, log_level='info')\n",
    "x.read_output_from_R()\n"
   ],
   "metadata": {
    "collapsed": false
   },
   "id": "d1dc793686455d9c"
  },
  {
   "cell_type": "code",
   "execution_count": null,
   "outputs": [],
   "source": [
    "n_regimes = [2]  # 2, 3 - liczna dozwolonych reżimów zmienności\n",
    "oos = ['2M']  # 1M, 2M, 3M, 6M, 12M - długość okresu out-of-sample\n",
    "moving = True  # parametr wskazujący czy okres in-sample ma się rozszerzać, czy przesuwać zachowując długość 10 lat\n"
   ],
   "metadata": {
    "collapsed": false
   },
   "id": "282e7a79c3af5155"
  },
  {
   "cell_type": "code",
   "execution_count": null,
   "outputs": [],
   "source": [
    "names = []\n",
    "final_object = models.ArimaGarchAnalyzer(cost='default', start_capital=10000, start_dte=[pd.to_datetime('2006-01-03')],\n",
    "                                         end_dte=[pd.to_datetime('2023-12-29')], log_to_file=True)\n",
    "for interval in oos:\n",
    "    schedules = schedules_generation_dates.get(interval)\n",
    "\n",
    "    for n in n_regimes:\n",
    "        x.optimise_strategy(schedules=schedules, interval=interval, moving=moving, n_regimes=n)\n",
    "        df_temp = x.df_final\n",
    "        del x.df_final\n",
    "        _name = 'df_final_' + str(interval) + '_' + str(n) + '_' + str(2013 if moving else 1996)\n",
    "        df_temp.to_csv(_name + '.csv')\n",
    "        setattr(final_object, _name, df_temp)\n",
    "        \n",
    "        names.append(_name)\n",
    "        "
   ],
   "metadata": {
    "collapsed": false
   },
   "id": "a335d3e9a33157bd"
  }
 ],
 "metadata": {
  "kernelspec": {
   "display_name": "Python 3",
   "language": "python",
   "name": "python3"
  },
  "language_info": {
   "codemirror_mode": {
    "name": "ipython",
    "version": 2
   },
   "file_extension": ".py",
   "mimetype": "text/x-python",
   "name": "python",
   "nbconvert_exporter": "python",
   "pygments_lexer": "ipython2",
   "version": "2.7.6"
  }
 },
 "nbformat": 4,
 "nbformat_minor": 5
}
